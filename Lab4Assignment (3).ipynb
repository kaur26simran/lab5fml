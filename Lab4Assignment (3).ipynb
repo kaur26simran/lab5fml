{
  "cells": [
    {
      "cell_type": "markdown",
      "metadata": {
        "id": "kfzf1r0_WUUM"
      },
      "source": [
        "In This section we are loading dataset"
      ]
    },
    {
      "cell_type": "code",
      "execution_count": 2,
      "metadata": {
        "colab": {
          "base_uri": "https://localhost:8080/"
        },
        "id": "V8iemv63JiNx",
        "outputId": "7e92af08-e6fa-4e00-90ed-ba75a5f62c49"
      },
      "outputs": [],
      "source": [
        "!pip uninstall scikit-learn"
      ]
    },
    {
      "cell_type": "code",
      "execution_count": null,
      "metadata": {
        "id": "67eilVuoJL17"
      },
      "outputs": [],
      "source": [
        "from sklearn import datasets\n",
        "from sklearn.metrics import mean_absolute_error\n",
        "from sklearn.metrics import mean_absolute_percentage_error\n",
        "from sklearn.metrics import r2_score\n",
        "from sklearn.model_selection import train_test_split"
      ]
    },
    {
      "cell_type": "markdown",
      "metadata": {
        "id": "YK1KQFR2aNfj"
      },
      "source": [
        "#1 Get the data"
      ]
    },
    {
      "cell_type": "code",
      "execution_count": null,
      "metadata": {
        "colab": {
          "base_uri": "https://localhost:8080/"
        },
        "id": "rYXEETGoJXUD",
        "outputId": "4537654d-39c6-4775-f97d-74288ca0a339"
      },
      "outputs": [
        {
          "data": {
            "text/plain": [
              "{'data': array([[ 0.03807591,  0.05068012,  0.06169621, ..., -0.00259226,\n",
              "          0.01990749, -0.01764613],\n",
              "        [-0.00188202, -0.04464164, -0.05147406, ..., -0.03949338,\n",
              "         -0.06833155, -0.09220405],\n",
              "        [ 0.08529891,  0.05068012,  0.04445121, ..., -0.00259226,\n",
              "          0.00286131, -0.02593034],\n",
              "        ...,\n",
              "        [ 0.04170844,  0.05068012, -0.01590626, ..., -0.01107952,\n",
              "         -0.04688253,  0.01549073],\n",
              "        [-0.04547248, -0.04464164,  0.03906215, ...,  0.02655962,\n",
              "          0.04452873, -0.02593034],\n",
              "        [-0.04547248, -0.04464164, -0.0730303 , ..., -0.03949338,\n",
              "         -0.00422151,  0.00306441]]),\n",
              " 'target': array([151.,  75., 141., 206., 135.,  97., 138.,  63., 110., 310., 101.,\n",
              "         69., 179., 185., 118., 171., 166., 144.,  97., 168.,  68.,  49.,\n",
              "         68., 245., 184., 202., 137.,  85., 131., 283., 129.,  59., 341.,\n",
              "         87.,  65., 102., 265., 276., 252.,  90., 100.,  55.,  61.,  92.,\n",
              "        259.,  53., 190., 142.,  75., 142., 155., 225.,  59., 104., 182.,\n",
              "        128.,  52.,  37., 170., 170.,  61., 144.,  52., 128.,  71., 163.,\n",
              "        150.,  97., 160., 178.,  48., 270., 202., 111.,  85.,  42., 170.,\n",
              "        200., 252., 113., 143.,  51.,  52., 210.,  65., 141.,  55., 134.,\n",
              "         42., 111.,  98., 164.,  48.,  96.,  90., 162., 150., 279.,  92.,\n",
              "         83., 128., 102., 302., 198.,  95.,  53., 134., 144., 232.,  81.,\n",
              "        104.,  59., 246., 297., 258., 229., 275., 281., 179., 200., 200.,\n",
              "        173., 180.,  84., 121., 161.,  99., 109., 115., 268., 274., 158.,\n",
              "        107.,  83., 103., 272.,  85., 280., 336., 281., 118., 317., 235.,\n",
              "         60., 174., 259., 178., 128.,  96., 126., 288.,  88., 292.,  71.,\n",
              "        197., 186.,  25.,  84.,  96., 195.,  53., 217., 172., 131., 214.,\n",
              "         59.,  70., 220., 268., 152.,  47.,  74., 295., 101., 151., 127.,\n",
              "        237., 225.,  81., 151., 107.,  64., 138., 185., 265., 101., 137.,\n",
              "        143., 141.,  79., 292., 178.,  91., 116.,  86., 122.,  72., 129.,\n",
              "        142.,  90., 158.,  39., 196., 222., 277.,  99., 196., 202., 155.,\n",
              "         77., 191.,  70.,  73.,  49.,  65., 263., 248., 296., 214., 185.,\n",
              "         78.,  93., 252., 150.,  77., 208.,  77., 108., 160.,  53., 220.,\n",
              "        154., 259.,  90., 246., 124.,  67.,  72., 257., 262., 275., 177.,\n",
              "         71.,  47., 187., 125.,  78.,  51., 258., 215., 303., 243.,  91.,\n",
              "        150., 310., 153., 346.,  63.,  89.,  50.,  39., 103., 308., 116.,\n",
              "        145.,  74.,  45., 115., 264.,  87., 202., 127., 182., 241.,  66.,\n",
              "         94., 283.,  64., 102., 200., 265.,  94., 230., 181., 156., 233.,\n",
              "         60., 219.,  80.,  68., 332., 248.,  84., 200.,  55.,  85.,  89.,\n",
              "         31., 129.,  83., 275.,  65., 198., 236., 253., 124.,  44., 172.,\n",
              "        114., 142., 109., 180., 144., 163., 147.,  97., 220., 190., 109.,\n",
              "        191., 122., 230., 242., 248., 249., 192., 131., 237.,  78., 135.,\n",
              "        244., 199., 270., 164.,  72.,  96., 306.,  91., 214.,  95., 216.,\n",
              "        263., 178., 113., 200., 139., 139.,  88., 148.,  88., 243.,  71.,\n",
              "         77., 109., 272.,  60.,  54., 221.,  90., 311., 281., 182., 321.,\n",
              "         58., 262., 206., 233., 242., 123., 167.,  63., 197.,  71., 168.,\n",
              "        140., 217., 121., 235., 245.,  40.,  52., 104., 132.,  88.,  69.,\n",
              "        219.,  72., 201., 110.,  51., 277.,  63., 118.,  69., 273., 258.,\n",
              "         43., 198., 242., 232., 175.,  93., 168., 275., 293., 281.,  72.,\n",
              "        140., 189., 181., 209., 136., 261., 113., 131., 174., 257.,  55.,\n",
              "         84.,  42., 146., 212., 233.,  91., 111., 152., 120.,  67., 310.,\n",
              "         94., 183.,  66., 173.,  72.,  49.,  64.,  48., 178., 104., 132.,\n",
              "        220.,  57.]),\n",
              " 'frame': None,\n",
              " 'DESCR': '.. _diabetes_dataset:\\n\\nDiabetes dataset\\n----------------\\n\\nTen baseline variables, age, sex, body mass index, average blood\\npressure, and six blood serum measurements were obtained for each of n =\\n442 diabetes patients, as well as the response of interest, a\\nquantitative measure of disease progression one year after baseline.\\n\\n**Data Set Characteristics:**\\n\\n  :Number of Instances: 442\\n\\n  :Number of Attributes: First 10 columns are numeric predictive values\\n\\n  :Target: Column 11 is a quantitative measure of disease progression one year after baseline\\n\\n  :Attribute Information:\\n      - age     age in years\\n      - sex\\n      - bmi     body mass index\\n      - bp      average blood pressure\\n      - s1      tc, total serum cholesterol\\n      - s2      ldl, low-density lipoproteins\\n      - s3      hdl, high-density lipoproteins\\n      - s4      tch, total cholesterol / HDL\\n      - s5      ltg, possibly log of serum triglycerides level\\n      - s6      glu, blood sugar level\\n\\nNote: Each of these 10 feature variables have been mean centered and scaled by the standard deviation times the square root of `n_samples` (i.e. the sum of squares of each column totals 1).\\n\\nSource URL:\\nhttps://www4.stat.ncsu.edu/~boos/var.select/diabetes.html\\n\\nFor more information see:\\nBradley Efron, Trevor Hastie, Iain Johnstone and Robert Tibshirani (2004) \"Least Angle Regression,\" Annals of Statistics (with discussion), 407-499.\\n(https://web.stanford.edu/~hastie/Papers/LARS/LeastAngle_2002.pdf)\\n',\n",
              " 'feature_names': ['age',\n",
              "  'sex',\n",
              "  'bmi',\n",
              "  'bp',\n",
              "  's1',\n",
              "  's2',\n",
              "  's3',\n",
              "  's4',\n",
              "  's5',\n",
              "  's6'],\n",
              " 'data_filename': 'diabetes_data_raw.csv.gz',\n",
              " 'target_filename': 'diabetes_target.csv.gz',\n",
              " 'data_module': 'sklearn.datasets.data'}"
            ]
          },
          "execution_count": 3,
          "metadata": {},
          "output_type": "execute_result"
        }
      ],
      "source": [
        "#1 Get the data\n",
        "datasets.load_diabetes()"
      ]
    },
    {
      "cell_type": "markdown",
      "metadata": {
        "id": "5VZqy-8yYNc5"
      },
      "source": [
        "#2. Frame the problem\n",
        "The dataset includes following feature columns:\n",
        "age (in years), sex, bmi (body mass index), bp (blood pressure), s1 (total serum cholestrol), s2 (low-density lipoproteins), s3(high-density lipoproteins), s4( total cholesterol / HDL), s5 (possibly log of serum triglycerides level), s6 (blood sugar level)\n",
        "\n",
        " source:https://scikit-learn.org/stable/datasets/toy_dataset.html#diabetes-dataset\n",
        "\n",
        "and a traget column (Target Column is a quantitative measure of disease progression one year after baseline).\n",
        "\n",
        "Our objective is to create a prediction model which can predict measure of disease progression\n",
        "\n",
        "\n"
      ]
    },
    {
      "cell_type": "code",
      "execution_count": null,
      "metadata": {
        "id": "BIk0iACJW6Zi"
      },
      "outputs": [],
      "source": [
        "diabetes = datasets.load_diabetes()\n",
        "x, y = diabetes.data, diabetes.target"
      ]
    },
    {
      "cell_type": "markdown",
      "metadata": {
        "id": "ylPj-3cKm4OE"
      },
      "source": [
        "#3. EDA"
      ]
    },
    {
      "cell_type": "code",
      "execution_count": null,
      "metadata": {
        "colab": {
          "base_uri": "https://localhost:8080/"
        },
        "id": "BRSbVv9RjXn0",
        "outputId": "048ed366-3d67-41bd-fc2d-b68d850c2e06"
      },
      "outputs": [
        {
          "name": "stdout",
          "output_type": "stream",
          "text": [
            "<class 'numpy.ndarray'>\n",
            "<class 'numpy.ndarray'>\n"
          ]
        }
      ],
      "source": [
        "print(type(x))\n",
        "print(type(y))\n",
        "#Both features columns and target columns are numpy.ndarray object"
      ]
    },
    {
      "cell_type": "code",
      "execution_count": null,
      "metadata": {
        "colab": {
          "base_uri": "https://localhost:8080/"
        },
        "id": "JEE_-gOiXMAK",
        "outputId": "9a27520d-b14a-4319-ed95-ad9861cd2387"
      },
      "outputs": [
        {
          "name": "stdout",
          "output_type": "stream",
          "text": [
            "442\n",
            "442\n"
          ]
        }
      ],
      "source": [
        "print(len(x))\n",
        "print(len(y))\n",
        "#total samples = 442"
      ]
    },
    {
      "cell_type": "code",
      "execution_count": null,
      "metadata": {
        "colab": {
          "base_uri": "https://localhost:8080/"
        },
        "id": "PfJovIuvnoLE",
        "outputId": "e31443ac-018d-4658-f9a8-6302be8207cd"
      },
      "outputs": [
        {
          "name": "stdout",
          "output_type": "stream",
          "text": [
            "(442, 10)\n",
            "(442,)\n"
          ]
        }
      ],
      "source": [
        "print(x.shape)\n",
        "print(y.shape)\n",
        "#Feature size is 442*10, Target size is 442*1"
      ]
    },
    {
      "cell_type": "code",
      "execution_count": null,
      "metadata": {
        "colab": {
          "base_uri": "https://localhost:8080/"
        },
        "id": "gNZMFXjPnwo0",
        "outputId": "a7e8336b-ff01-4521-95a8-6685f5283e05"
      },
      "outputs": [
        {
          "name": "stdout",
          "output_type": "stream",
          "text": [
            "['age', 'sex', 'bmi', 'bp', 's1', 's2', 's3', 's4', 's5', 's6']\n"
          ]
        }
      ],
      "source": [
        "categories = diabetes.feature_names\n",
        "print(categories)\n",
        "#categories are listed below"
      ]
    },
    {
      "cell_type": "code",
      "execution_count": null,
      "metadata": {
        "colab": {
          "base_uri": "https://localhost:8080/"
        },
        "id": "XrJ6lBPcwwbf",
        "outputId": "e226ab80-401b-4e33-8b9d-f807cc798c6e"
      },
      "outputs": [
        {
          "name": "stdout",
          "output_type": "stream",
          "text": [
            "float64\n"
          ]
        }
      ],
      "source": [
        "print(x.dtype)\n",
        "#data type of categories"
      ]
    },
    {
      "cell_type": "code",
      "execution_count": null,
      "metadata": {
        "id": "ZslN3Rv8xHSR"
      },
      "outputs": [],
      "source": [
        "#we will use numpy for stats"
      ]
    },
    {
      "cell_type": "code",
      "execution_count": null,
      "metadata": {
        "id": "J62uD5-zns8G"
      },
      "outputs": [],
      "source": [
        "import numpy as np\n",
        "# In the below cells, we are using axis=0 in order to apply numpy stat function over columns"
      ]
    },
    {
      "cell_type": "code",
      "execution_count": null,
      "metadata": {
        "colab": {
          "base_uri": "https://localhost:8080/"
        },
        "id": "3pm_iJkGxMPi",
        "outputId": "f7acf270-f1ab-4fb3-e51f-b564f13879a9"
      },
      "outputs": [
        {
          "data": {
            "text/plain": [
              "array([-1.44429466e-18,  2.54321451e-18, -2.25592546e-16, -4.85408596e-17,\n",
              "       -1.42859580e-17,  3.89881064e-17, -6.02836031e-18, -1.78809958e-17,\n",
              "        9.24348582e-17,  1.35176953e-17])"
            ]
          },
          "execution_count": 15,
          "metadata": {},
          "output_type": "execute_result"
        }
      ],
      "source": [
        "np.mean(x, axis=0)"
      ]
    },
    {
      "cell_type": "code",
      "execution_count": null,
      "metadata": {
        "colab": {
          "base_uri": "https://localhost:8080/"
        },
        "id": "dJKQVMo9xfJY",
        "outputId": "17164949-e555-42e5-f3f9-af5470daf1f2"
      },
      "outputs": [
        {
          "data": {
            "text/plain": [
              "array([ 0.00538306, -0.04464164, -0.00728377, -0.00567042, -0.00432087,\n",
              "       -0.00381907, -0.00658447, -0.00259226, -0.00194717, -0.0010777 ])"
            ]
          },
          "execution_count": 16,
          "metadata": {},
          "output_type": "execute_result"
        }
      ],
      "source": [
        "np.median(x, axis=0)"
      ]
    },
    {
      "cell_type": "code",
      "execution_count": null,
      "metadata": {
        "colab": {
          "base_uri": "https://localhost:8080/"
        },
        "id": "DGU_Icdcxj5w",
        "outputId": "e9408c15-20d9-4fae-f2cc-c66052c0542d"
      },
      "outputs": [
        {
          "data": {
            "text/plain": [
              "array([-0.10722563, -0.04464164, -0.0902753 , -0.1123988 , -0.12678067,\n",
              "       -0.11561307, -0.10230705, -0.0763945 , -0.12609712, -0.13776723])"
            ]
          },
          "execution_count": 17,
          "metadata": {},
          "output_type": "execute_result"
        }
      ],
      "source": [
        "np.min(x, axis=0)"
      ]
    },
    {
      "cell_type": "code",
      "execution_count": null,
      "metadata": {
        "colab": {
          "base_uri": "https://localhost:8080/"
        },
        "id": "XDe-YqMqyJZR",
        "outputId": "c996adb1-8de7-4930-aa36-75d81932c88a"
      },
      "outputs": [
        {
          "data": {
            "text/plain": [
              "array([0.11072668, 0.05068012, 0.17055523, 0.13204362, 0.15391371,\n",
              "       0.19878799, 0.18117906, 0.18523444, 0.13359728, 0.13561183])"
            ]
          },
          "execution_count": 18,
          "metadata": {},
          "output_type": "execute_result"
        }
      ],
      "source": [
        "np.max(x, axis=0)"
      ]
    },
    {
      "cell_type": "code",
      "execution_count": null,
      "metadata": {
        "colab": {
          "base_uri": "https://localhost:8080/"
        },
        "id": "U5YgW_DSym2P",
        "outputId": "6a75224e-7f09-4987-b88f-6e16f978186a"
      },
      "outputs": [
        {
          "data": {
            "text/plain": [
              "array([-6.38378239e-16,  1.12410081e-15, -9.97119054e-14, -2.14550600e-14,\n",
              "       -6.31439345e-15,  1.72327430e-14, -2.66453526e-15, -7.90340016e-15,\n",
              "        4.08562073e-14,  5.97482133e-15])"
            ]
          },
          "execution_count": 19,
          "metadata": {},
          "output_type": "execute_result"
        }
      ],
      "source": [
        "np.sum(x, axis=0)"
      ]
    },
    {
      "cell_type": "code",
      "execution_count": null,
      "metadata": {
        "colab": {
          "base_uri": "https://localhost:8080/"
        },
        "id": "sTSWQxoguL02",
        "outputId": "2162e180-61ab-423f-e323-237a93730dc3"
      },
      "outputs": [
        {
          "data": {
            "text/plain": [
              "array([ 0.03807591,  0.05068012,  0.06169621,  0.02187239, -0.0442235 ,\n",
              "       -0.03482076, -0.04340085, -0.00259226,  0.01990749, -0.01764613])"
            ]
          },
          "execution_count": 20,
          "metadata": {},
          "output_type": "execute_result"
        }
      ],
      "source": [
        "#hist, bin_edges = np.histogram2d(x, density=True)\n",
        "x[0]"
      ]
    },
    {
      "cell_type": "code",
      "execution_count": null,
      "metadata": {
        "id": "ph_3fA0ZuQwP"
      },
      "outputs": [],
      "source": [
        "hist, bin_edges = np.histogram(x, bins= [0, 50, 100, 150, 200, 250, 300], density=True)"
      ]
    },
    {
      "cell_type": "code",
      "execution_count": null,
      "metadata": {
        "colab": {
          "base_uri": "https://localhost:8080/"
        },
        "id": "igK7s21Oq8Lg",
        "outputId": "2d9fcaaf-7d67-42ac-c52e-54406c30e4b1"
      },
      "outputs": [
        {
          "name": "stdout",
          "output_type": "stream",
          "text": [
            "[0.02 0.   0.   0.   0.   0.  ]\n"
          ]
        }
      ],
      "source": [
        "print(hist)"
      ]
    },
    {
      "cell_type": "code",
      "execution_count": null,
      "metadata": {
        "colab": {
          "base_uri": "https://localhost:8080/"
        },
        "id": "wbnrtG8jq-W6",
        "outputId": "13e72fd4-7b0b-4a16-aa0a-fce737329d7a"
      },
      "outputs": [
        {
          "name": "stdout",
          "output_type": "stream",
          "text": [
            "[  0  50 100 150 200 250 300]\n"
          ]
        }
      ],
      "source": [
        "print(bin_edges)"
      ]
    },
    {
      "cell_type": "code",
      "execution_count": null,
      "metadata": {
        "colab": {
          "base_uri": "https://localhost:8080/"
        },
        "id": "6K7a5AhOsU9W",
        "outputId": "fe25f84a-93ab-4d82-fd5d-23b51326f4ae"
      },
      "outputs": [
        {
          "name": "stdout",
          "output_type": "stream",
          "text": [
            "[[ 1.         -0.41008768  0.88093795 ...  0.49704114 -0.02373095\n",
            "  -0.81268876]\n",
            " [-0.41008768  1.         -0.1488849  ... -0.13088247 -0.31169802\n",
            "   0.66521717]\n",
            " [ 0.88093795 -0.1488849   1.         ...  0.62419416 -0.30645109\n",
            "  -0.63365667]\n",
            " ...\n",
            " [ 0.49704114 -0.13088247  0.62419416 ...  1.         -0.77180399\n",
            "  -0.50190899]\n",
            " [-0.02373095 -0.31169802 -0.30645109 ... -0.77180399  1.\n",
            "  -0.14226962]\n",
            " [-0.81268876  0.66521717 -0.63365667 ... -0.50190899 -0.14226962\n",
            "   1.        ]]\n"
          ]
        }
      ],
      "source": [
        "import numpy as np\n",
        "print(np.corrcoef(x.T, rowvar=False)) #feature columns are tarnsposed"
      ]
    },
    {
      "cell_type": "code",
      "execution_count": null,
      "metadata": {
        "colab": {
          "base_uri": "https://localhost:8080/"
        },
        "id": "X_Px5UdjtN82",
        "outputId": "7ae68d8e-81b4-4fd9-9ab7-fcb85a078c47"
      },
      "outputs": [
        {
          "data": {
            "text/plain": [
              "array([[ 1.        ,  0.1737371 ,  0.18508467,  0.33542759,  0.26006082,\n",
              "         0.21924314, -0.07518097,  0.2038409 ,  0.27077424,  0.30173101],\n",
              "       [ 0.1737371 ,  1.        ,  0.0881614 ,  0.24101049,  0.03527682,\n",
              "         0.14263726, -0.37908963,  0.33211509,  0.14991614,  0.20813322],\n",
              "       [ 0.18508467,  0.0881614 ,  1.        ,  0.3954109 ,  0.24977742,\n",
              "         0.26116991, -0.36681098,  0.4138066 ,  0.44615654,  0.38867999],\n",
              "       [ 0.33542759,  0.24101049,  0.3954109 ,  1.        ,  0.24246402,\n",
              "         0.18554846, -0.17876163,  0.25765005,  0.39348011,  0.39043002],\n",
              "       [ 0.26006082,  0.03527682,  0.24977742,  0.24246402,  1.        ,\n",
              "         0.89666296,  0.05151936,  0.54220728,  0.51550292,  0.32571675],\n",
              "       [ 0.21924314,  0.14263726,  0.26116991,  0.18554846,  0.89666296,\n",
              "         1.        , -0.19645512,  0.65981689,  0.31835667,  0.29060038],\n",
              "       [-0.07518097, -0.37908963, -0.36681098, -0.17876163,  0.05151936,\n",
              "        -0.19645512,  1.        , -0.73849273, -0.39857729, -0.2736973 ],\n",
              "       [ 0.2038409 ,  0.33211509,  0.4138066 ,  0.25765005,  0.54220728,\n",
              "         0.65981689, -0.73849273,  1.        ,  0.61785897,  0.41721211],\n",
              "       [ 0.27077424,  0.14991614,  0.44615654,  0.39348011,  0.51550292,\n",
              "         0.31835667, -0.39857729,  0.61785897,  1.        ,  0.46466885],\n",
              "       [ 0.30173101,  0.20813322,  0.38867999,  0.39043002,  0.32571675,\n",
              "         0.29060038, -0.2736973 ,  0.41721211,  0.46466885,  1.        ]])"
            ]
          },
          "execution_count": 25,
          "metadata": {},
          "output_type": "execute_result"
        }
      ],
      "source": [
        "np.corrcoef(x.T, rowvar=True)\n"
      ]
    },
    {
      "cell_type": "code",
      "execution_count": null,
      "metadata": {
        "id": "TR6ZA3Yf1QlX"
      },
      "outputs": [],
      "source": [
        "# In the above correlation matrix, we can see that 7th and 8th columns (s3 and s4) has -0.73849273 value [strong negative correlation],\n",
        "# where as 5th and 6th column (s1 and s2) has 0.89666296 [strong positive correlation]\n",
        "#s1      tc, total serum cholesterol\\n      - s2      ldl, low-density lipoproteins\\n\n",
        "#- s3     hdl, high-density lipoproteins\\n      - s4      tch, total cholesterol / HDL\\n\n",
        "\n",
        "# If we have more HDL then cholestrol will be less\n",
        "# If we have high LDL, then we will have high cholestrol\n",
        "\n",
        "\n"
      ]
    },
    {
      "cell_type": "markdown",
      "metadata": {
        "id": "LpVRBgdB7Yk0"
      },
      "source": [
        "# 4. Clean the data"
      ]
    },
    {
      "cell_type": "code",
      "execution_count": null,
      "metadata": {
        "colab": {
          "base_uri": "https://localhost:8080/"
        },
        "id": "b3hlvUYu3Wss",
        "outputId": "ee811fd5-d435-4a3a-a6fc-369d0eb89d18"
      },
      "outputs": [
        {
          "data": {
            "text/plain": [
              "True"
            ]
          },
          "execution_count": 27,
          "metadata": {},
          "output_type": "execute_result"
        }
      ],
      "source": [
        "np.any(x, axis = None, out = None)\n",
        "#Since the data is not empty further pre-processing is not required"
      ]
    },
    {
      "cell_type": "markdown",
      "metadata": {
        "id": "w5NmcQAb7cch"
      },
      "source": [
        "#5. Split the dataset to a train (70%), validation (15%) and test (15%) sets"
      ]
    },
    {
      "cell_type": "code",
      "execution_count": null,
      "metadata": {
        "id": "ojx2uzMp7Viv"
      },
      "outputs": [],
      "source": [
        "from sklearn import datasets\n",
        "diabetes = datasets.load_diabetes()\n",
        "x, y = diabetes.data, diabetes.target\n",
        "\n",
        "from sklearn.model_selection import train_test_split\n",
        "\n",
        "X_train, X_test, y_train, y_test = train_test_split(x, y, test_size=0.15, random_state=1)\n",
        "\n",
        "X_train, X_val, y_train, y_val = train_test_split(X_train, y_train, test_size=0.15, random_state=1)"
      ]
    },
    {
      "cell_type": "code",
      "execution_count": null,
      "metadata": {
        "colab": {
          "base_uri": "https://localhost:8080/"
        },
        "id": "2zlVkavU1HHN",
        "outputId": "b70b5c7b-e9ca-4e11-ff92-f746f4934c2b"
      },
      "outputs": [
        {
          "name": "stdout",
          "output_type": "stream",
          "text": [
            "(318, 10) (318,)\n",
            "318 318\n"
          ]
        }
      ],
      "source": [
        "print((X_train.shape), (y_train.shape))\n",
        "print(len(X_train), len(y_train))"
      ]
    },
    {
      "cell_type": "markdown",
      "metadata": {
        "id": "b_p-wuMHGMTR"
      },
      "source": [
        "# 6. Polynomial Regression between \"BMI\" and \"disease progression one year after baseline\""
      ]
    },
    {
      "cell_type": "code",
      "execution_count": null,
      "metadata": {
        "id": "-Eq7_J7NCtqL"
      },
      "outputs": [],
      "source": [
        "import numpy as np\n",
        "import pandas as pd\n",
        "import matplotlib.pyplot as plt\n",
        "from sklearn.preprocessing import PolynomialFeatures\n",
        "from sklearn.linear_model import LinearRegression\n",
        "from sklearn import datasets\n",
        "from sklearn.model_selection import train_test_split\n",
        "\n",
        "diabetes = datasets.load_diabetes()\n",
        "x, y = diabetes.data, diabetes.target\n",
        "\n",
        "X_train, X_test, y_train, y_test = train_test_split(x, y, test_size=0.15, random_state=1)\n",
        "X_train, X_val, y_train, y_val = train_test_split(X_train, y_train, test_size=0.15, random_state=1)"
      ]
    },
    {
      "cell_type": "code",
      "execution_count": null,
      "metadata": {
        "colab": {
          "base_uri": "https://localhost:8080/"
        },
        "id": "igmkBVEMbL64",
        "outputId": "9e94f171-422d-4d7b-a840-10464ad17e48"
      },
      "outputs": [
        {
          "name": "stdout",
          "output_type": "stream",
          "text": [
            "degree=0\n",
            "Training\n",
            "R2:  0.0\n",
            "MAPE:  0.6385581641850788\n",
            "MAE:  66.8308413433013\n",
            "\n",
            "Validation\n",
            "R2:  0.0\n",
            "MAPE:  0.6313977319276011\n",
            "MAE:  65.26685133887351\n"
          ]
        }
      ],
      "source": [
        "#model 1 - degree=0\n",
        "\n",
        "\n",
        "\n",
        "BMI_train = []\n",
        "BMI_val = []\n",
        "BMI_test = []\n",
        "\n",
        "for x in range(len(X_train)):\n",
        "  BMI_train.append(X_train[x][2])\n",
        "\n",
        "for x in range(len(X_val)):\n",
        "  BMI_val.append(X_val[x][2])\n",
        "\n",
        "for x in range(len(X_test)):\n",
        "  BMI_test.append(X_test[x][2])\n",
        "\n",
        "#print(len(BMI_train), len(BMI_val), len(BMI_test))\n",
        "#print(len(y_train), len(y_val),len(y_test))\n",
        "\n",
        "BMI_train_transformed = np.array(BMI_train)\n",
        "#print(BMI_train_transformed.shape)\n",
        "\n",
        "BMI_val_transformed = np.array(BMI_val)\n",
        "#print(BMI_val_transformed.shape)\n",
        "\n",
        "BMI_test_transformed = np.array(BMI_test)\n",
        "#print(BMI_test_transformed.shape)\n",
        "\n",
        "#BMI_val = np.array(BMI_val)\n",
        "\n",
        "#print(BMI_val.shape)\n",
        "#print(BMI_train_transformed)\n",
        "#print(y_train)\n",
        "\n",
        "\n",
        "poly1 = PolynomialFeatures(degree=0)\n",
        "#print(poly)\n",
        "\n",
        "poly_reg_model = LinearRegression()\n",
        "#print(poly_reg_model)\n",
        "\n",
        "print(\"degree=0\")\n",
        "print(\"Training\")\n",
        "\n",
        "poly_features = poly1.fit_transform(BMI_train_transformed.reshape(-1, 1))\n",
        "#print(poly_features)\n",
        "\n",
        "poly_reg_model.fit(poly_features, y_train)\n",
        "#print(poly_reg_model)\n",
        "\n",
        "\n",
        "preds_valid=poly_reg_model.predict(poly_features)\n",
        "R2=r2_score(y_train,preds_valid)\n",
        "print(\"R2: \",R2)\n",
        "\n",
        "preds_valid=poly_reg_model.predict(poly_features)\n",
        "MAPE=mean_absolute_percentage_error(y_train,preds_valid)\n",
        "print(\"MAPE: \",MAPE)\n",
        "\n",
        "preds_valid=poly_reg_model.predict(poly_features)\n",
        "MAE=mean_absolute_error(y_train,preds_valid)\n",
        "print(\"MAE: \",MAE)\n",
        "\n",
        "print(\"\\nValidation\")\n",
        "\n",
        "poly_features = poly1.fit_transform(BMI_val_transformed.reshape(-1, 1))\n",
        "#print(poly_features)\n",
        "\n",
        "poly_reg_model.fit(poly_features, y_val)\n",
        "#print(poly_reg_model)\n",
        "\n",
        "\n",
        "preds_valid=poly_reg_model.predict(poly_features)\n",
        "R2=r2_score(y_val,preds_valid)\n",
        "print(\"R2: \",R2)\n",
        "\n",
        "preds_valid=poly_reg_model.predict(poly_features)\n",
        "MAPE=mean_absolute_percentage_error(y_val,preds_valid)\n",
        "print(\"MAPE: \",MAPE)\n",
        "\n",
        "preds_valid=poly_reg_model.predict(poly_features)\n",
        "MAE=mean_absolute_error(y_val,preds_valid)\n",
        "print(\"MAE: \",MAE)"
      ]
    },
    {
      "cell_type": "code",
      "execution_count": null,
      "metadata": {
        "colab": {
          "base_uri": "https://localhost:8080/"
        },
        "id": "mlMp0haVB1IO",
        "outputId": "6367e20e-54ee-44bc-e788-7f168f59854d"
      },
      "outputs": [
        {
          "name": "stdout",
          "output_type": "stream",
          "text": [
            "degree=1\n",
            "Training\n",
            "R2:  0.3676590832227752\n",
            "MAPE:  0.4825809531279489\n",
            "MAE:  51.68635002546303\n",
            "\n",
            "Validation\n",
            "R2:  0.41614396291150024\n",
            "MAPE:  0.4570675868911925\n",
            "MAE:  48.83348136367006\n"
          ]
        }
      ],
      "source": [
        "#model 2 - degree=1\n",
        "\n",
        "BMI_train = []\n",
        "BMI_val = []\n",
        "BMI_test = []\n",
        "\n",
        "for x in range(len(X_train)):\n",
        "  BMI_train.append(X_train[x][2])\n",
        "\n",
        "for x in range(len(X_val)):\n",
        "  BMI_val.append(X_val[x][2])\n",
        "\n",
        "for x in range(len(X_test)):\n",
        "  BMI_test.append(X_test[x][2])\n",
        "\n",
        "#print(len(BMI_train), len(BMI_val), len(BMI_test))\n",
        "#print(len(y_train), len(y_val),len(y_test))\n",
        "\n",
        "BMI_train_transformed = np.array(BMI_train)\n",
        "#print(BMI_train_transformed.shape)\n",
        "\n",
        "BMI_val_transformed = np.array(BMI_val)\n",
        "#print(BMI_val_transformed.shape)\n",
        "\n",
        "BMI_test_transformed = np.array(BMI_test)\n",
        "#print(BMI_test_transformed.shape)\n",
        "\n",
        "#BMI_val = np.array(BMI_val)\n",
        "\n",
        "#print(BMI_val.shape)\n",
        "#print(BMI_train_transformed)\n",
        "#print(y_train)\n",
        "\n",
        "\n",
        "poly2 = PolynomialFeatures(degree=1, include_bias=False)\n",
        "#print(poly)\n",
        "\n",
        "poly_reg_model = LinearRegression()\n",
        "#print(poly_reg_model)\n",
        "\n",
        "print(\"degree=1\")\n",
        "print(\"Training\")\n",
        "\n",
        "poly_features = poly2.fit_transform(BMI_train_transformed.reshape(-1, 1))\n",
        "#print(poly_features)\n",
        "\n",
        "poly_reg_model.fit(poly_features, y_train)\n",
        "#print(poly_reg_model)\n",
        "\n",
        "\n",
        "preds_valid=poly_reg_model.predict(poly_features)\n",
        "R2=r2_score(y_train,preds_valid)\n",
        "print(\"R2: \",R2)\n",
        "\n",
        "preds_valid=poly_reg_model.predict(poly_features)\n",
        "MAPE=mean_absolute_percentage_error(y_train,preds_valid)\n",
        "print(\"MAPE: \",MAPE)\n",
        "\n",
        "preds_valid=poly_reg_model.predict(poly_features)\n",
        "MAE=mean_absolute_error(y_train,preds_valid)\n",
        "print(\"MAE: \",MAE)\n",
        "\n",
        "print(\"\\nValidation\")\n",
        "\n",
        "poly_features = poly2.fit_transform(BMI_val_transformed.reshape(-1, 1))\n",
        "#print(poly_features)\n",
        "\n",
        "poly_reg_model.fit(poly_features, y_val)\n",
        "#print(poly_reg_model)\n",
        "\n",
        "\n",
        "preds_valid=poly_reg_model.predict(poly_features)\n",
        "R2=r2_score(y_val,preds_valid)\n",
        "print(\"R2: \",R2)\n",
        "\n",
        "preds_valid=poly_reg_model.predict(poly_features)\n",
        "MAPE=mean_absolute_percentage_error(y_val,preds_valid)\n",
        "print(\"MAPE: \",MAPE)\n",
        "\n",
        "preds_valid=poly_reg_model.predict(poly_features)\n",
        "MAE=mean_absolute_error(y_val,preds_valid)\n",
        "print(\"MAE: \",MAE)"
      ]
    },
    {
      "cell_type": "code",
      "execution_count": null,
      "metadata": {
        "colab": {
          "base_uri": "https://localhost:8080/"
        },
        "id": "IP29KFdPDF7T",
        "outputId": "10307715-8f84-452f-c732-dd5454499c85"
      },
      "outputs": [
        {
          "name": "stdout",
          "output_type": "stream",
          "text": [
            "degree=2\n",
            "Training\n",
            "R2:  0.3677354643259563\n",
            "MAPE:  0.48281088448924364\n",
            "MAE:  51.695815494990704\n",
            "\n",
            "Validation\n",
            "R2:  0.4362468245839597\n",
            "MAPE:  0.45045080147462163\n",
            "MAE:  47.92147453941279\n"
          ]
        }
      ],
      "source": [
        "#model 3 - degree=2\n",
        "\n",
        "BMI_train = []\n",
        "BMI_val = []\n",
        "BMI_test = []\n",
        "\n",
        "for x in range(len(X_train)):\n",
        "  BMI_train.append(X_train[x][2])\n",
        "\n",
        "for x in range(len(X_val)):\n",
        "  BMI_val.append(X_val[x][2])\n",
        "\n",
        "for x in range(len(X_test)):\n",
        "  BMI_test.append(X_test[x][2])\n",
        "\n",
        "#print(len(BMI_train), len(BMI_val), len(BMI_test))\n",
        "#print(len(y_train), len(y_val),len(y_test))\n",
        "\n",
        "BMI_train_transformed = np.array(BMI_train)\n",
        "#print(BMI_train_transformed.shape)\n",
        "\n",
        "BMI_val_transformed = np.array(BMI_val)\n",
        "#print(BMI_val_transformed.shape)\n",
        "\n",
        "BMI_test_transformed = np.array(BMI_test)\n",
        "#print(BMI_test_transformed.shape)\n",
        "\n",
        "#BMI_val = np.array(BMI_val)\n",
        "\n",
        "#print(BMI_val.shape)\n",
        "#print(BMI_train_transformed)\n",
        "#print(y_train)\n",
        "\n",
        "\n",
        "poly3 = PolynomialFeatures(degree=2, include_bias=False)\n",
        "#print(poly)\n",
        "\n",
        "poly_reg_model = LinearRegression()\n",
        "#print(poly_reg_model)\n",
        "\n",
        "print(\"degree=2\")\n",
        "print(\"Training\")\n",
        "\n",
        "poly_features = poly3.fit_transform(BMI_train_transformed.reshape(-1, 1))\n",
        "#print(poly_features)\n",
        "\n",
        "poly_reg_model.fit(poly_features, y_train)\n",
        "#print(poly_reg_model)\n",
        "\n",
        "\n",
        "preds_valid=poly_reg_model.predict(poly_features)\n",
        "R2=r2_score(y_train,preds_valid)\n",
        "print(\"R2: \",R2)\n",
        "\n",
        "preds_valid=poly_reg_model.predict(poly_features)\n",
        "MAPE=mean_absolute_percentage_error(y_train,preds_valid)\n",
        "print(\"MAPE: \",MAPE)\n",
        "\n",
        "preds_valid=poly_reg_model.predict(poly_features)\n",
        "MAE=mean_absolute_error(y_train,preds_valid)\n",
        "print(\"MAE: \",MAE)\n",
        "\n",
        "print(\"\\nValidation\")\n",
        "\n",
        "poly_features =poly3.fit_transform(BMI_val_transformed.reshape(-1, 1))\n",
        "#print(poly_features)\n",
        "\n",
        "poly_reg_model.fit(poly_features, y_val)\n",
        "#print(poly_reg_model)\n",
        "\n",
        "\n",
        "preds_valid=poly_reg_model.predict(poly_features)\n",
        "R2=r2_score(y_val,preds_valid)\n",
        "print(\"R2: \",R2)\n",
        "\n",
        "preds_valid=poly_reg_model.predict(poly_features)\n",
        "MAPE=mean_absolute_percentage_error(y_val,preds_valid)\n",
        "print(\"MAPE: \",MAPE)\n",
        "\n",
        "preds_valid=poly_reg_model.predict(poly_features)\n",
        "MAE=mean_absolute_error(y_val,preds_valid)\n",
        "print(\"MAE: \",MAE)"
      ]
    },
    {
      "cell_type": "code",
      "execution_count": null,
      "metadata": {
        "colab": {
          "base_uri": "https://localhost:8080/"
        },
        "id": "k69CUcpIFv54",
        "outputId": "5e937896-1502-46fc-feca-1a584f98390c"
      },
      "outputs": [
        {
          "name": "stdout",
          "output_type": "stream",
          "text": [
            "degree=3\n",
            "Training\n",
            "R2:  0.3689636997668789\n",
            "MAPE:  0.4797456204684949\n",
            "MAE:  51.443276697259776\n",
            "\n",
            "Validation\n",
            "R2:  0.4409253561334685\n",
            "MAPE:  0.44521903576465305\n",
            "MAE:  47.21609407567933\n"
          ]
        }
      ],
      "source": [
        "#model 4 - degree=3\n",
        "\n",
        "BMI_train = []\n",
        "BMI_val = []\n",
        "BMI_test = []\n",
        "\n",
        "for x in range(len(X_train)):\n",
        "  BMI_train.append(X_train[x][2])\n",
        "\n",
        "for x in range(len(X_val)):\n",
        "  BMI_val.append(X_val[x][2])\n",
        "\n",
        "for x in range(len(X_test)):\n",
        "  BMI_test.append(X_test[x][2])\n",
        "\n",
        "#print(len(BMI_train), len(BMI_val), len(BMI_test))\n",
        "#print(len(y_train), len(y_val),len(y_test))\n",
        "\n",
        "BMI_train_transformed = np.array(BMI_train)\n",
        "#print(BMI_train_transformed.shape)\n",
        "\n",
        "BMI_val_transformed = np.array(BMI_val)\n",
        "#print(BMI_val_transformed.shape)\n",
        "\n",
        "BMI_test_transformed = np.array(BMI_test)\n",
        "#print(BMI_test_transformed.shape)\n",
        "\n",
        "#BMI_val = np.array(BMI_val)\n",
        "\n",
        "#print(BMI_val.shape)\n",
        "#print(BMI_train_transformed)\n",
        "#print(y_train)\n",
        "\n",
        "\n",
        "poly4 = PolynomialFeatures(degree=3, include_bias=False)\n",
        "#print(poly)\n",
        "\n",
        "poly_reg_model = LinearRegression()\n",
        "#print(poly_reg_model)\n",
        "\n",
        "print(\"degree=3\")\n",
        "print(\"Training\")\n",
        "\n",
        "poly_features = poly4.fit_transform(BMI_train_transformed.reshape(-1, 1))\n",
        "#print(poly_features)\n",
        "\n",
        "poly_reg_model.fit(poly_features, y_train)\n",
        "#print(poly_reg_model)\n",
        "\n",
        "\n",
        "preds_valid=poly_reg_model.predict(poly_features)\n",
        "R2=r2_score(y_train,preds_valid)\n",
        "print(\"R2: \",R2)\n",
        "\n",
        "preds_valid=poly_reg_model.predict(poly_features)\n",
        "MAPE=mean_absolute_percentage_error(y_train,preds_valid)\n",
        "print(\"MAPE: \",MAPE)\n",
        "\n",
        "preds_valid=poly_reg_model.predict(poly_features)\n",
        "MAE=mean_absolute_error(y_train,preds_valid)\n",
        "print(\"MAE: \",MAE)\n",
        "\n",
        "print(\"\\nValidation\")\n",
        "\n",
        "poly_features = poly4.fit_transform(BMI_val_transformed.reshape(-1, 1))\n",
        "#print(poly_features)\n",
        "\n",
        "poly_reg_model.fit(poly_features, y_val)\n",
        "#print(poly_reg_model)\n",
        "\n",
        "\n",
        "preds_valid=poly_reg_model.predict(poly_features)\n",
        "R2=r2_score(y_val,preds_valid)\n",
        "print(\"R2: \",R2)\n",
        "\n",
        "preds_valid=poly_reg_model.predict(poly_features)\n",
        "MAPE=mean_absolute_percentage_error(y_val,preds_valid)\n",
        "print(\"MAPE: \",MAPE)\n",
        "\n",
        "preds_valid=poly_reg_model.predict(poly_features)\n",
        "MAE=mean_absolute_error(y_val,preds_valid)\n",
        "print(\"MAE: \",MAE)"
      ]
    },
    {
      "cell_type": "code",
      "execution_count": null,
      "metadata": {
        "colab": {
          "base_uri": "https://localhost:8080/"
        },
        "id": "9rVGFTizF_fR",
        "outputId": "735fa8d3-180a-48b0-ae34-c027df1fd2c6"
      },
      "outputs": [
        {
          "name": "stdout",
          "output_type": "stream",
          "text": [
            "degree=4\n",
            "Training\n",
            "R2:  0.3700818495947841\n",
            "MAPE:  0.47714197712909034\n",
            "MAE:  51.334751940189626\n",
            "\n",
            "Validation\n",
            "R2:  0.4414366423122067\n",
            "MAPE:  0.4446911860795622\n",
            "MAE:  47.1969287337531\n"
          ]
        }
      ],
      "source": [
        "#model 5 - degree=4\n",
        "\n",
        "BMI_train = []\n",
        "BMI_val = []\n",
        "BMI_test = []\n",
        "\n",
        "for x in range(len(X_train)):\n",
        "  BMI_train.append(X_train[x][2])\n",
        "\n",
        "for x in range(len(X_val)):\n",
        "  BMI_val.append(X_val[x][2])\n",
        "\n",
        "for x in range(len(X_test)):\n",
        "  BMI_test.append(X_test[x][2])\n",
        "\n",
        "#print(len(BMI_train), len(BMI_val), len(BMI_test))\n",
        "#print(len(y_train), len(y_val),len(y_test))\n",
        "\n",
        "BMI_train_transformed = np.array(BMI_train)\n",
        "#print(BMI_train_transformed.shape)\n",
        "\n",
        "BMI_val_transformed = np.array(BMI_val)\n",
        "#print(BMI_val_transformed.shape)\n",
        "\n",
        "BMI_test_transformed = np.array(BMI_test)\n",
        "#print(BMI_test_transformed.shape)\n",
        "\n",
        "#BMI_val = np.array(BMI_val)\n",
        "\n",
        "#print(BMI_val.shape)\n",
        "#print(BMI_train_transformed)\n",
        "#print(y_train)\n",
        "\n",
        "\n",
        "poly5 = PolynomialFeatures(degree=4, include_bias=False)\n",
        "#print(poly)\n",
        "\n",
        "poly_reg_model = LinearRegression()\n",
        "#print(poly_reg_model)\n",
        "\n",
        "print(\"degree=4\")\n",
        "print(\"Training\")\n",
        "\n",
        "poly_features = poly5.fit_transform(BMI_train_transformed.reshape(-1, 1))\n",
        "#print(poly_features)\n",
        "\n",
        "poly_reg_model.fit(poly_features, y_train)\n",
        "#print(poly_reg_model)\n",
        "\n",
        "\n",
        "preds_valid=poly_reg_model.predict(poly_features)\n",
        "R2=r2_score(y_train,preds_valid)\n",
        "print(\"R2: \",R2)\n",
        "\n",
        "preds_valid=poly_reg_model.predict(poly_features)\n",
        "MAPE=mean_absolute_percentage_error(y_train,preds_valid)\n",
        "print(\"MAPE: \",MAPE)\n",
        "\n",
        "preds_valid=poly_reg_model.predict(poly_features)\n",
        "MAE=mean_absolute_error(y_train,preds_valid)\n",
        "print(\"MAE: \",MAE)\n",
        "\n",
        "print(\"\\nValidation\")\n",
        "\n",
        "poly_features = poly5.fit_transform(BMI_val_transformed.reshape(-1, 1))\n",
        "#print(poly_features)\n",
        "\n",
        "poly_reg_model.fit(poly_features, y_val)\n",
        "#print(poly_reg_model)\n",
        "\n",
        "\n",
        "preds_valid=poly_reg_model.predict(poly_features)\n",
        "R2=r2_score(y_val,preds_valid)\n",
        "print(\"R2: \",R2)\n",
        "\n",
        "preds_valid=poly_reg_model.predict(poly_features)\n",
        "MAPE=mean_absolute_percentage_error(y_val,preds_valid)\n",
        "print(\"MAPE: \",MAPE)\n",
        "\n",
        "preds_valid=poly_reg_model.predict(poly_features)\n",
        "MAE=mean_absolute_error(y_val,preds_valid)\n",
        "print(\"MAE: \",MAE)"
      ]
    },
    {
      "cell_type": "code",
      "execution_count": null,
      "metadata": {
        "colab": {
          "base_uri": "https://localhost:8080/"
        },
        "id": "21wkHmoXGJ8o",
        "outputId": "a4cb4e96-743d-4c93-91e6-c06a2b63defd"
      },
      "outputs": [
        {
          "name": "stdout",
          "output_type": "stream",
          "text": [
            "degree=5\n",
            "Training\n",
            "R2:  0.3751564723568509\n",
            "MAPE:  0.4726549444336136\n",
            "MAE:  50.94337475514538\n",
            "\n",
            "Validation\n",
            "R2:  0.4442150553862171\n",
            "MAPE:  0.445254474939542\n",
            "MAE:  46.89353796762662\n"
          ]
        }
      ],
      "source": [
        "#model 6 - degree=5\n",
        "\n",
        "BMI_train = []\n",
        "BMI_val = []\n",
        "BMI_test = []\n",
        "\n",
        "for x in range(len(X_train)):\n",
        "  BMI_train.append(X_train[x][2])\n",
        "\n",
        "for x in range(len(X_val)):\n",
        "  BMI_val.append(X_val[x][2])\n",
        "\n",
        "for x in range(len(X_test)):\n",
        "  BMI_test.append(X_test[x][2])\n",
        "\n",
        "#print(len(BMI_train), len(BMI_val), len(BMI_test))\n",
        "#print(len(y_train), len(y_val),len(y_test))\n",
        "\n",
        "BMI_train_transformed = np.array(BMI_train)\n",
        "#print(BMI_train_transformed.shape)\n",
        "\n",
        "BMI_val_transformed = np.array(BMI_val)\n",
        "#print(BMI_val_transformed.shape)\n",
        "\n",
        "BMI_test_transformed = np.array(BMI_test)\n",
        "#print(BMI_test_transformed.shape)\n",
        "\n",
        "#BMI_val = np.array(BMI_val)\n",
        "\n",
        "#print(BMI_val.shape)\n",
        "#print(BMI_train_transformed)\n",
        "#print(y_train)\n",
        "\n",
        "\n",
        "poly6 = PolynomialFeatures(degree=5, include_bias=False)\n",
        "#print(poly)\n",
        "\n",
        "poly_reg_model = LinearRegression()\n",
        "#print(poly_reg_model)\n",
        "\n",
        "print(\"degree=5\")\n",
        "print(\"Training\")\n",
        "\n",
        "poly_features = poly6.fit_transform(BMI_train_transformed.reshape(-1, 1))\n",
        "#print(poly_features)\n",
        "\n",
        "poly_reg_model.fit(poly_features, y_train)\n",
        "#print(poly_reg_model)\n",
        "\n",
        "\n",
        "preds_valid=poly_reg_model.predict(poly_features)\n",
        "R2=r2_score(y_train,preds_valid)\n",
        "print(\"R2: \",R2)\n",
        "\n",
        "preds_valid=poly_reg_model.predict(poly_features)\n",
        "MAPE=mean_absolute_percentage_error(y_train,preds_valid)\n",
        "print(\"MAPE: \",MAPE)\n",
        "\n",
        "preds_valid=poly_reg_model.predict(poly_features)\n",
        "MAE=mean_absolute_error(y_train,preds_valid)\n",
        "print(\"MAE: \",MAE)\n",
        "\n",
        "print(\"\\nValidation\")\n",
        "\n",
        "poly_features = poly6.fit_transform(BMI_val_transformed.reshape(-1, 1))\n",
        "#print(poly_features)\n",
        "\n",
        "poly_reg_model.fit(poly_features, y_val)\n",
        "#print(poly_reg_model)\n",
        "\n",
        "\n",
        "preds_valid=poly_reg_model.predict(poly_features)\n",
        "R2=r2_score(y_val,preds_valid)\n",
        "print(\"R2: \",R2)\n",
        "\n",
        "preds_valid=poly_reg_model.predict(poly_features)\n",
        "MAPE=mean_absolute_percentage_error(y_val,preds_valid)\n",
        "print(\"MAPE: \",MAPE)\n",
        "\n",
        "preds_valid=poly_reg_model.predict(poly_features)\n",
        "MAE=mean_absolute_error(y_val,preds_valid)\n",
        "print(\"MAE: \",MAE)"
      ]
    },
    {
      "cell_type": "markdown",
      "metadata": {
        "id": "GhkAP6otGuAm"
      },
      "source": [
        "# 7. Compare the six models using the training and validation data:\n",
        "# 7.1. Report R-squared, MAPE and MAE. You should have 6 values per model\n",
        "\n",
        "\n",
        "\n",
        "Model Result Summary\n",
        "\n",
        "-----------------------------------------------------\n",
        "\n",
        "degree=0\n",
        "Training\n",
        "R2:  0.0\n",
        "MAPE:  0.6385581641850788\n",
        "MAE:  66.8308413433013\n",
        "\n",
        "Validation\n",
        "R2:  0.0\n",
        "MAPE:  0.6313977319276011\n",
        "MAE:  65.26685133887351\n",
        "\n",
        "-----------------------------------------------------\n",
        "\n",
        "degree=1\n",
        "Training\n",
        "R2:  0.3676590832227752\n",
        "MAPE:  0.4825809531279491\n",
        "MAE:  51.68635002546303\n",
        "\n",
        "Validation\n",
        "R2:  0.41614396291150013\n",
        "MAPE:  0.45706758689119237\n",
        "MAE:  48.83348136367006\n",
        "\n",
        "-----------------------------------------------------\n",
        "\n",
        "degree=2\n",
        "Training\n",
        "R2:  0.3677354643259563\n",
        "MAPE:  0.48281088448924364\n",
        "MAE:  51.695815494990704\n",
        "\n",
        "Validation\n",
        "R2:  0.4362468245839597\n",
        "MAPE:  0.45045080147462163\n",
        "MAE:  47.92147453941279\n",
        "\n",
        "-----------------------------------------------------\n",
        "\n",
        "degree=3\n",
        "Training\n",
        "R2:  0.36896369976687915\n",
        "MAPE:  0.47974562046849495\n",
        "MAE:  51.443276697259776\n",
        "\n",
        "Validation\n",
        "R2:  0.4409253561334686\n",
        "MAPE:  0.4452190357646531\n",
        "MAE:  47.21609407567932\n",
        "\n",
        "-----------------------------------------------------\n",
        "\n",
        "degree=4\n",
        "Training\n",
        "R2:  0.3700818495947842\n",
        "MAPE:  0.47714197712909046\n",
        "MAE:  51.33475194018963\n",
        "\n",
        "Validation\n",
        "R2:  0.4414366423122067\n",
        "MAPE:  0.4446911860795624\n",
        "MAE:  47.196928733753104\n",
        "\n",
        "-----------------------------------------------------\n",
        "degree=5\n",
        "Training\n",
        "R2:  0.3751564723568509\n",
        "MAPE:  0.47265494443361356\n",
        "MAE:  50.94337475514536\n",
        "\n",
        "Validation\n",
        "R2:  0.4442150553862171\n",
        "MAPE:  0.445254474939542\n",
        "MAE:  46.89353796762659\n",
        "\n",
        "-----------------------------------------------------\n",
        "\n",
        " R-squared gives the degree of variability in the target variable that is explained by the model or the independent variables. If this value is 0.7, then it means that the independent variables explain 70% of the variation in the target variable.\n",
        "\n",
        " A lower MAPE value indicates a more accurate prediction – an MAPE of 0% means the prediction is the same as the actual, while a higher MAPE value indicates a less accurate prediction.\n",
        "\n",
        " A lower MAE indicates superior model accuracy.\n",
        "\n",
        "-----------------------------------------------------\n",
        "After comparing above metrics we can see that\n",
        "\n",
        "- degree 5 model has maximum R2 and minimum MAE\n",
        "- degree 4 model has minimum MAE\n",
        "\n",
        "Hence,we can say that degree 5 is the best model.\n"
      ]
    },
    {
      "cell_type": "markdown",
      "metadata": {
        "id": "HoelnEo2OMpr"
      },
      "source": [
        "# 7.2.1 Run the chosen model on the test set, and report R-Squared, MSE and MAE for it"
      ]
    },
    {
      "cell_type": "code",
      "execution_count": null,
      "metadata": {
        "colab": {
          "base_uri": "https://localhost:8080/"
        },
        "id": "497jDBWCOVPl",
        "outputId": "d420e1a9-5d2e-405f-a5c2-9811b2f6b88f"
      },
      "outputs": [
        {
          "name": "stdout",
          "output_type": "stream",
          "text": [
            "degree=5\n",
            "Training\n",
            "R2:  0.3751564723568509\n",
            "MAPE:  0.4726549444336136\n",
            "MAE:  50.94337475514538\n",
            "\n",
            "Validation\n",
            "R2:  0.4442150553862171\n",
            "MAPE:  0.445254474939542\n",
            "MAE:  46.89353796762662\n",
            "\n",
            "Test\n",
            "R2:  0.18104186351181795\n",
            "MAPE:  0.4456860882747084\n",
            "MAE:  53.446333685506104\n"
          ]
        }
      ],
      "source": [
        "#model 6 - degree=5\n",
        "\n",
        "BMI_train = []\n",
        "BMI_val = []\n",
        "BMI_test = []\n",
        "\n",
        "for x in range(len(X_train)):\n",
        "  BMI_train.append(X_train[x][2])\n",
        "\n",
        "for x in range(len(X_val)):\n",
        "  BMI_val.append(X_val[x][2])\n",
        "\n",
        "for x in range(len(X_test)):\n",
        "  BMI_test.append(X_test[x][2])\n",
        "\n",
        "#print(len(BMI_train), len(BMI_val), len(BMI_test))\n",
        "#print(len(y_train), len(y_val),len(y_test))\n",
        "\n",
        "BMI_train_transformed = np.array(BMI_train)\n",
        "#print(BMI_train_transformed.shape)\n",
        "\n",
        "BMI_val_transformed = np.array(BMI_val)\n",
        "#print(BMI_val_transformed.shape)\n",
        "\n",
        "BMI_test_transformed = np.array(BMI_test)\n",
        "#print(BMI_test_transformed.shape)\n",
        "\n",
        "#BMI_val = np.array(BMI_val)\n",
        "\n",
        "#print(BMI_val.shape)\n",
        "#print(BMI_train_transformed)\n",
        "#print(y_train)\n",
        "\n",
        "\n",
        "poly = PolynomialFeatures(degree=5, include_bias=False)\n",
        "#print(poly)\n",
        "\n",
        "poly_reg_model = LinearRegression()\n",
        "#print(poly_reg_model)\n",
        "\n",
        "print(\"degree=5\")\n",
        "print(\"Training\")\n",
        "\n",
        "poly_features = poly.fit_transform(BMI_train_transformed.reshape(-1, 1))\n",
        "#print(poly_features)\n",
        "\n",
        "poly_reg_model.fit(poly_features, y_train)\n",
        "#print(poly_reg_model)\n",
        "\n",
        "\n",
        "preds_valid=poly_reg_model.predict(poly_features)\n",
        "R2=r2_score(y_train,preds_valid)\n",
        "print(\"R2: \",R2)\n",
        "\n",
        "preds_valid=poly_reg_model.predict(poly_features)\n",
        "MAPE=mean_absolute_percentage_error(y_train,preds_valid)\n",
        "print(\"MAPE: \",MAPE)\n",
        "\n",
        "preds_valid=poly_reg_model.predict(poly_features)\n",
        "MAE=mean_absolute_error(y_train,preds_valid)\n",
        "print(\"MAE: \",MAE)\n",
        "\n",
        "print(\"\\nValidation\")\n",
        "\n",
        "poly_features = poly.fit_transform(BMI_val_transformed.reshape(-1, 1))\n",
        "#print(poly_features)\n",
        "\n",
        "poly_reg_model.fit(poly_features, y_val)\n",
        "#print(poly_reg_model)\n",
        "\n",
        "\n",
        "preds_valid=poly_reg_model.predict(poly_features)\n",
        "R2=r2_score(y_val,preds_valid)\n",
        "print(\"R2: \",R2)\n",
        "\n",
        "preds_valid=poly_reg_model.predict(poly_features)\n",
        "MAPE=mean_absolute_percentage_error(y_val,preds_valid)\n",
        "print(\"MAPE: \",MAPE)\n",
        "\n",
        "preds_valid=poly_reg_model.predict(poly_features)\n",
        "MAE=mean_absolute_error(y_val,preds_valid)\n",
        "print(\"MAE: \",MAE)\n",
        "\n",
        "print(\"\\nTest\")\n",
        "\n",
        "poly_features = poly.fit_transform(BMI_test_transformed.reshape(-1, 1))\n",
        "#print(poly_features)\n",
        "\n",
        "poly_reg_model.fit(poly_features, y_test)\n",
        "#print(poly_reg_model)\n",
        "\n",
        "\n",
        "preds_valid=poly_reg_model.predict(poly_features)\n",
        "R2=r2_score(y_test,preds_valid)\n",
        "print(\"R2: \",R2)\n",
        "\n",
        "preds_valid=poly_reg_model.predict(poly_features)\n",
        "MAPE=mean_absolute_percentage_error(y_test,preds_valid)\n",
        "print(\"MAPE: \",MAPE)\n",
        "\n",
        "preds_valid=poly_reg_model.predict(poly_features)\n",
        "MAE=mean_absolute_error(y_test,preds_valid)\n",
        "print(\"MAE: \",MAE)"
      ]
    },
    {
      "cell_type": "markdown",
      "metadata": {
        "id": "8ti2CagMWtr7"
      },
      "source": [
        "# 7.2.2 Plot a graph of the train, validation and test datapoints, and the fit of the chosen model over\n",
        "\n",
        "\n"
      ]
    },
    {
      "cell_type": "code",
      "execution_count": null,
      "metadata": {
        "colab": {
          "base_uri": "https://localhost:8080/",
          "height": 557
        },
        "id": "lPxSU5wSPFYe",
        "outputId": "1b20ca73-f22b-4a13-ccbb-61e794c03ce8"
      },
      "outputs": [
        {
          "name": "stdout",
          "output_type": "stream",
          "text": [
            "degree=5\n",
            "Training\n"
          ]
        },
        {
          "data": {
            "image/png": "[encoded data removed]",
            "text/plain": [
              "<Figure size 1000x600 with 1 Axes>"
            ]
          },
          "metadata": {},
          "output_type": "display_data"
        }
      ],
      "source": [
        "import numpy as np\n",
        "import pandas as pd\n",
        "import matplotlib.pyplot as plt\n",
        "\n",
        "#model 6 - degree=5\n",
        "\n",
        "BMI_train = []\n",
        "BMI_val = []\n",
        "BMI_test = []\n",
        "\n",
        "for x in range(len(X_train)):\n",
        "  BMI_train.append(X_train[x][2])\n",
        "\n",
        "for x in range(len(X_val)):\n",
        "  BMI_val.append(X_val[x][2])\n",
        "\n",
        "for x in range(len(X_test)):\n",
        "  BMI_test.append(X_test[x][2])\n",
        "\n",
        "#print(len(BMI_train), len(BMI_val), len(BMI_test))\n",
        "#print(len(y_train), len(y_val),len(y_test))\n",
        "\n",
        "BMI_train_transformed = np.array(BMI_train)\n",
        "#print(BMI_train_transformed.shape)\n",
        "\n",
        "BMI_val_transformed = np.array(BMI_val)\n",
        "#print(BMI_val_transformed.shape)\n",
        "\n",
        "BMI_test_transformed = np.array(BMI_test)\n",
        "#print(BMI_test_transformed.shape)\n",
        "\n",
        "#BMI_val = np.array(BMI_val)\n",
        "\n",
        "#print(BMI_val.shape)\n",
        "#print(BMI_train_transformed)\n",
        "#print(y_train)\n",
        "\n",
        "\n",
        "poly = PolynomialFeatures(degree=5, include_bias=False)\n",
        "#print(poly)\n",
        "\n",
        "poly_reg_model = LinearRegression()\n",
        "#print(poly_reg_model)\n",
        "\n",
        "print(\"degree=5\")\n",
        "print(\"Training\")\n",
        "\n",
        "poly_features = poly.fit_transform(BMI_train_transformed.reshape(-1, 1))\n",
        "#print(poly_features)\n",
        "\n",
        "poly_reg_model.fit(poly_features, y_train)\n",
        "#print(poly_reg_model)\n",
        "\n",
        "\n",
        "preds_valid_train  = poly_reg_model.predict(poly_features)\n",
        "\n",
        "plt.figure(figsize=(10,6))\n",
        "plt.scatter(BMI_train_transformed, y_train)\n",
        "plt.plot(BMI_train_transformed, preds_valid_train, c=\"red\")\n",
        "\n",
        "plt.show()"
      ]
    },
    {
      "cell_type": "code",
      "execution_count": null,
      "metadata": {
        "colab": {
          "base_uri": "https://localhost:8080/",
          "height": 577
        },
        "id": "CyzzALW7UFV_",
        "outputId": "fb707e9a-bd58-4d33-a930-53d0d8f2d544"
      },
      "outputs": [
        {
          "name": "stdout",
          "output_type": "stream",
          "text": [
            "degree=5\n",
            "Train\n"
          ]
        },
        {
          "data": {
            "image/png": "[encoded data removed]",
            "text/plain": [
              "<Figure size 1000x600 with 1 Axes>"
            ]
          },
          "metadata": {},
          "output_type": "display_data"
        }
      ],
      "source": [
        "import numpy as np\n",
        "import pandas as pd\n",
        "import matplotlib.pyplot as plt\n",
        "\n",
        "#model 6 - degree=5\n",
        "\n",
        "BMI_train = []\n",
        "BMI_val = []\n",
        "BMI_test = []\n",
        "\n",
        "for x in range(len(X_train)):\n",
        "  BMI_train.append(X_train[x][2])\n",
        "\n",
        "for x in range(len(X_val)):\n",
        "  BMI_val.append(X_val[x][2])\n",
        "\n",
        "for x in range(len(X_test)):\n",
        "  BMI_test.append(X_test[x][2])\n",
        "\n",
        "BMI_train_transformed = np.array(BMI_train)\n",
        "\n",
        "BMI_val_transformed = np.array(BMI_val)\n",
        "\n",
        "BMI_test_transformed = np.array(BMI_test)\n",
        "\n",
        "poly = PolynomialFeatures(degree=5, include_bias=False)\n",
        "#print(poly)\n",
        "\n",
        "poly_reg_model = LinearRegression()\n",
        "#print(poly_reg_model)\n",
        "\n",
        "print(\"degree=5\")\n",
        "print(\"Train\")\n",
        "\n",
        "poly_features = poly.fit_transform(BMI_train_transformed.reshape(-1, 1))\n",
        "#print(poly_features)\n",
        "\n",
        "poly_reg_model.fit(poly_features, y_train)\n",
        "#print(poly_reg_model)\n",
        "\n",
        "preds_valid_train  = poly_reg_model.predict(poly_features)\n",
        "\n",
        "plt.figure(figsize=(10,6))\n",
        "plt.scatter(BMI_train_transformed, y_train)\n",
        "plt.plot(BMI_train_transformed, preds_valid_train, c=\"red\")\n",
        "\n",
        "plt.xlabel(\"BMI\")\n",
        "plt.ylabel(\"disease progression one year after baseline\")\n",
        "\n",
        "plt.show()"
      ]
    },
    {
      "cell_type": "code",
      "execution_count": null,
      "metadata": {
        "colab": {
          "base_uri": "https://localhost:8080/",
          "height": 577
        },
        "id": "RYRlP8AaVP_v",
        "outputId": "0d51b609-50d9-4361-b3b5-be83f6a19763"
      },
      "outputs": [
        {
          "name": "stdout",
          "output_type": "stream",
          "text": [
            "degree=5\n",
            "Validation\n"
          ]
        },
        {
          "data": {
            "image/png": "[encoded data removed]",
            "text/plain": [
              "<Figure size 1000x600 with 1 Axes>"
            ]
          },
          "metadata": {},
          "output_type": "display_data"
        }
      ],
      "source": [
        "import numpy as np\n",
        "import pandas as pd\n",
        "import matplotlib.pyplot as plt\n",
        "\n",
        "#model 6 - degree=5\n",
        "\n",
        "BMI_train = []\n",
        "BMI_val = []\n",
        "BMI_test = []\n",
        "\n",
        "for x in range(len(X_train)):\n",
        "  BMI_train.append(X_train[x][2])\n",
        "\n",
        "for x in range(len(X_val)):\n",
        "  BMI_val.append(X_val[x][2])\n",
        "\n",
        "for x in range(len(X_test)):\n",
        "  BMI_test.append(X_test[x][2])\n",
        "\n",
        "BMI_train_transformed = np.array(BMI_train)\n",
        "\n",
        "BMI_val_transformed = np.array(BMI_val)\n",
        "\n",
        "BMI_test_transformed = np.array(BMI_test)\n",
        "\n",
        "poly = PolynomialFeatures(degree=5, include_bias=False)\n",
        "#print(poly)\n",
        "\n",
        "poly_reg_model = LinearRegression()\n",
        "#print(poly_reg_model)\n",
        "\n",
        "print(\"degree=5\")\n",
        "print(\"Validation\")\n",
        "\n",
        "poly_features = poly.fit_transform(BMI_val_transformed.reshape(-1, 1))\n",
        "#print(poly_features)\n",
        "\n",
        "poly_reg_model.fit(poly_features, y_val)\n",
        "#print(poly_reg_model)\n",
        "\n",
        "preds_valid_val  = poly_reg_model.predict(poly_features)\n",
        "\n",
        "plt.figure(figsize=(10,6))\n",
        "plt.scatter(BMI_val_transformed, y_val)\n",
        "plt.plot(BMI_val_transformed, preds_valid_val, c=\"red\")\n",
        "\n",
        "plt.xlabel(\"BMI\")\n",
        "plt.ylabel(\"disease progression one year after baseline\")\n",
        "\n",
        "plt.show()"
      ]
    },
    {
      "cell_type": "code",
      "execution_count": null,
      "metadata": {
        "colab": {
          "base_uri": "https://localhost:8080/",
          "height": 577
        },
        "id": "G56MdmMgV4a5",
        "outputId": "9ccd13fb-13e4-4c62-f088-a414ea5db887"
      },
      "outputs": [
        {
          "name": "stdout",
          "output_type": "stream",
          "text": [
            "degree=5\n",
            "Test\n"
          ]
        },
        {
          "data": {
            "image/png": "[encoded data removed]",
            "text/plain": [
              "<Figure size 1000x600 with 1 Axes>"
            ]
          },
          "metadata": {},
          "output_type": "display_data"
        }
      ],
      "source": [
        "import numpy as np\n",
        "import pandas as pd\n",
        "import matplotlib.pyplot as plt\n",
        "\n",
        "#model 6 - degree=5\n",
        "\n",
        "BMI_train = []\n",
        "BMI_val = []\n",
        "BMI_test = []\n",
        "\n",
        "for x in range(len(X_train)):\n",
        "  BMI_train.append(X_train[x][2])\n",
        "\n",
        "for x in range(len(X_val)):\n",
        "  BMI_val.append(X_val[x][2])\n",
        "\n",
        "for x in range(len(X_test)):\n",
        "  BMI_test.append(X_test[x][2])\n",
        "\n",
        "BMI_train_transformed = np.array(BMI_train)\n",
        "\n",
        "BMI_val_transformed = np.array(BMI_val)\n",
        "\n",
        "BMI_test_transformed = np.array(BMI_test)\n",
        "\n",
        "poly = PolynomialFeatures(degree=5, include_bias=False)\n",
        "#print(poly)\n",
        "\n",
        "poly_reg_model = LinearRegression()\n",
        "#print(poly_reg_model)\n",
        "\n",
        "print(\"degree=5\")\n",
        "print(\"Test\")\n",
        "\n",
        "poly_features = poly.fit_transform(BMI_test_transformed.reshape(-1, 1))\n",
        "#print(poly_features)\n",
        "\n",
        "poly_reg_model.fit(poly_features, y_test)\n",
        "#print(poly_reg_model)\n",
        "\n",
        "preds_valid_test  = poly_reg_model.predict(poly_features)\n",
        "\n",
        "plt.figure(figsize=(10,6))\n",
        "plt.scatter(BMI_test_transformed, y_test)\n",
        "plt.plot(BMI_test_transformed, preds_valid_test, c=\"red\")\n",
        "\n",
        "plt.xlabel(\"BMI\")\n",
        "plt.ylabel(\"disease progression one year after baseline\")\n",
        "\n",
        "plt.show()"
      ]
    },
    {
      "cell_type": "markdown",
      "metadata": {
        "id": "wrYHxVeeYIIq"
      },
      "source": [
        "# 7.2.3 Write down the equation of the best model (with a two decimal digit precision, assuming it's sufficient). Manually calculate the expected diabetes progression for a BMI value of your choice, and compare it to model.perdict() for that value"
      ]
    },
    {
      "cell_type": "code",
      "execution_count": null,
      "metadata": {
        "colab": {
          "base_uri": "https://localhost:8080/"
        },
        "id": "pZHGUSkAX_pb",
        "outputId": "7ead0b75-e1aa-4f39-ebfb-fc5c0ee24ca9"
      },
      "outputs": [
        {
          "name": "stdout",
          "output_type": "stream",
          "text": [
            "[ 1.28640962e+03  4.16819784e+03 -3.73213927e+05 -1.34103947e+06\n",
            "  4.52235067e+07]\n",
            "159.50151761658145\n"
          ]
        }
      ],
      "source": [
        "print(poly_reg_model.coef_)\n",
        "print(poly_reg_model.intercept_)"
      ]
    },
    {
      "cell_type": "code",
      "execution_count": null,
      "metadata": {
        "colab": {
          "base_uri": "https://localhost:8080/"
        },
        "id": "Mfy5pc_lZcRm",
        "outputId": "e9647a13-bf01-46e3-ec2f-ec804d1334e2"
      },
      "outputs": [
        {
          "name": "stdout",
          "output_type": "stream",
          "text": [
            "(188.3532064218549, array([188.35320636]))\n"
          ]
        }
      ],
      "source": [
        "def manual_calc(x):\n",
        "  A = 1.28640962e+03\n",
        "  B = 4.16819784e+03\n",
        "  C = -3.73213927e+05\n",
        "  D = -1.34103947e+06\n",
        "  E = 4.52235067e+07\n",
        "\n",
        "  Intercept = 159.50151761658145\n",
        "\n",
        "  return A*(x)+B*(x**2)+C*(x**3)+D*(x**4)+E*(x**5)+Intercept, poly_reg_model.predict([[x, x**2, x**3, x**4, x**5]])\n",
        "\n",
        "# x value shall be between -0.075 and 0.1\n",
        "print(manual_calc(x=0.025))\n",
        "\n",
        "#preds_sample_test  = poly_reg_model.predict([[0.025, 0.000625, 1.5625000000000004e-05 , 3.9062500000000007e-07 , 9.765625000000002e-09]]) # consectuive values are 0.025 ^ x (x=1,2,3...)\n",
        "#print(preds_sample_test)"
      ]
    },
    {
      "cell_type": "markdown",
      "metadata": {
        "id": "aj4n71_neUNB"
      },
      "source": [
        "# 7.3. How many trainable parameters are we fitting for each of the six models? Explain these values. One way is to use sklearn function get_feature_names_out()"
      ]
    },
    {
      "cell_type": "code",
      "execution_count": null,
      "metadata": {
        "colab": {
          "base_uri": "https://localhost:8080/"
        },
        "id": "Gy8U-la9fSM3",
        "outputId": "4ce2cc67-145b-4592-945a-ea541cbddbe5"
      },
      "outputs": [
        {
          "data": {
            "text/plain": [
              "array(['1'], dtype=object)"
            ]
          },
          "execution_count": 54,
          "metadata": {},
          "output_type": "execute_result"
        }
      ],
      "source": [
        "poly1.get_feature_names_out()"
      ]
    },
    {
      "cell_type": "code",
      "execution_count": null,
      "metadata": {
        "colab": {
          "base_uri": "https://localhost:8080/"
        },
        "id": "VBeZRtUPoHT5",
        "outputId": "32841348-2221-4932-cbeb-30efca0dc475"
      },
      "outputs": [
        {
          "data": {
            "text/plain": [
              "array(['x0'], dtype=object)"
            ]
          },
          "execution_count": 55,
          "metadata": {},
          "output_type": "execute_result"
        }
      ],
      "source": [
        "poly2.get_feature_names_out()"
      ]
    },
    {
      "cell_type": "code",
      "execution_count": null,
      "metadata": {
        "colab": {
          "base_uri": "https://localhost:8080/"
        },
        "id": "A8Abb_NioLLK",
        "outputId": "249bac9c-322a-461b-d08b-51636f69e13c"
      },
      "outputs": [
        {
          "data": {
            "text/plain": [
              "array(['x0', 'x0^2'], dtype=object)"
            ]
          },
          "execution_count": 56,
          "metadata": {},
          "output_type": "execute_result"
        }
      ],
      "source": [
        "poly3.get_feature_names_out()"
      ]
    },
    {
      "cell_type": "code",
      "execution_count": null,
      "metadata": {
        "colab": {
          "base_uri": "https://localhost:8080/"
        },
        "id": "mBB_9NZhon6o",
        "outputId": "8a6653ba-8448-4d82-e168-8c7c14b7e089"
      },
      "outputs": [
        {
          "data": {
            "text/plain": [
              "array(['x0', 'x0^2', 'x0^3'], dtype=object)"
            ]
          },
          "execution_count": 57,
          "metadata": {},
          "output_type": "execute_result"
        }
      ],
      "source": [
        "poly4.get_feature_names_out()"
      ]
    },
    {
      "cell_type": "code",
      "execution_count": null,
      "metadata": {
        "colab": {
          "base_uri": "https://localhost:8080/"
        },
        "id": "2eVZFwGGoqeZ",
        "outputId": "a189e343-7f65-4dec-9bec-a38280ad4ba1"
      },
      "outputs": [
        {
          "data": {
            "text/plain": [
              "array(['x0', 'x0^2', 'x0^3', 'x0^4'], dtype=object)"
            ]
          },
          "execution_count": 58,
          "metadata": {},
          "output_type": "execute_result"
        }
      ],
      "source": [
        "poly5.get_feature_names_out()"
      ]
    },
    {
      "cell_type": "code",
      "execution_count": null,
      "metadata": {
        "colab": {
          "base_uri": "https://localhost:8080/"
        },
        "id": "511GmgB8osAT",
        "outputId": "3cee4eff-5c35-40bf-9504-0cc8cf1ec86d"
      },
      "outputs": [
        {
          "data": {
            "text/plain": [
              "array(['x0', 'x0^2', 'x0^3', 'x0^4', 'x0^5'], dtype=object)"
            ]
          },
          "execution_count": 59,
          "metadata": {},
          "output_type": "execute_result"
        }
      ],
      "source": [
        "poly6.get_feature_names_out()"
      ]
    },
    {
      "cell_type": "markdown",
      "metadata": {
        "id": "kE09-s9mOT92"
      },
      "source": []
    }
  ],
  "metadata": {
    "colab": {
      "provenance": []
    },
    "kernelspec": {
      "display_name": "Python 3",
      "name": "python3"
    },
    "language_info": {
      "codemirror_mode": {
        "name": "ipython",
        "version": 3
      },
      "file_extension": ".py",
      "mimetype": "text/x-python",
      "name": "python",
      "nbconvert_exporter": "python",
      "pygments_lexer": "ipython3",
      "version": "3.11.7"
    }
  },
  "nbformat": 4,
  "nbformat_minor": 0
}
